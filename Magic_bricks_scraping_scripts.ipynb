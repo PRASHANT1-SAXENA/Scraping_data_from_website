{
 "cells": [
  {
   "cell_type": "code",
   "execution_count": 1,
   "id": "228a114b",
   "metadata": {},
   "outputs": [],
   "source": [
    "import requests\n",
    "import pandas as pd\n",
    "import numpy as np\n",
    "import requests\n",
    "from bs4 import BeautifulSoup\n",
    "import csv"
   ]
  },
  {
   "cell_type": "code",
   "execution_count": 2,
   "id": "dcc30921",
   "metadata": {},
   "outputs": [
    {
     "name": "stdout",
     "output_type": "stream",
     "text": [
      "1 page 5 Id- 42612085\n",
      "2 page 6 Id- 42169317\n",
      "got it\n",
      "64877563 64877563\n",
      "6\n",
      "page_end:  6\n"
     ]
    }
   ],
   "source": [
    "# last page count\n",
    "page_start=4\n",
    "group_range=(page_start*30)-30\n",
    "page_stop=15\n",
    "itera=1\n",
    "\n",
    "for pg in range(page_start,page_stop):\n",
    "    url=f\"https://www.magicbricks.com/mbsrp/propertySearch.html?editSearch=Y&category=R&propertyType=10002,10003,10021,10022,10020,10001,10017&city=3649&page={page_start}&groupstart={group_range}&offset=0&maxOffset=22&sortBy=premiumRecent&postedSince=-1&pType=10002,10003,10021,10022,10020,10001,10017&isNRI=N&multiLang=en\"\n",
    "    r=requests.get(url)\n",
    "    data=r.json()\n",
    "    a=[]\n",
    "    for result in data[\"resultList\"]:\n",
    "        a.append(result[\"id\"])\n",
    "    t1=a[0]\n",
    "    \n",
    "    url_1=f\"https://www.magicbricks.com/mbsrp/propertySearch.html?editSearch=Y&category=R&propertyType=10002,10003,10021,10022,10020,10001,10017&city=3649&page={page_start+1}&groupstart={group_range+30}&offset=0&maxOffset=22&sortBy=premiumRecent&postedSince=-1&pType=10002,10003,10021,10022,10020,10001,10017&isNRI=N&multiLang=en\"\n",
    "    r=requests.get(url_1)\n",
    "    data=r.json()\n",
    "    b=[]\n",
    "    for result in data[\"resultList\"]:\n",
    "        b.append(result[\"id\"])\n",
    "    t2=b[0]\n",
    "    if t1==t2:\n",
    "        print(\"got it\")\n",
    "        print(t1,t2)\n",
    "        print(page_start)\n",
    "        page_end=page_start\n",
    "        print(\"page_end: \",page_end)\n",
    "        break\n",
    "    else:\n",
    "        page_start=page_start+1\n",
    "        group_range=group_range+30\n",
    "        print(itera,\"page\",page_start, \"Id-\",t1)\n",
    "        itera=itera+1\n",
    "        "
   ]
  },
  {
   "cell_type": "code",
   "execution_count": 3,
   "id": "1844e0b4",
   "metadata": {},
   "outputs": [
    {
     "name": "stdout",
     "output_type": "stream",
     "text": [
      "Page complete --  1\n",
      "Page complete --  2\n",
      "Page complete --  3\n",
      "Page complete --  4\n",
      "Page complete --  5\n",
      "Page complete --  6\n",
      "All done\n"
     ]
    }
   ],
   "source": [
    "mgb = {\"unique_id\":[],\"City\":[],\"Rent_price\":[],\"CarpetArea\":[],\n",
    "       \"CarpetUnit\":[],\"CoveredArea\":[],\"CoveredUnit\":[],\"latitude\":[],\"longitude\":[]\n",
    "       ,\"Post_date\":[],\"Property_Name\":[],\"Property_Address\":[],\"url\":[]}\n",
    "page_start=1\n",
    "group_range=(page_start*30)-30\n",
    "page_stop=page_end+1\n",
    "\n",
    "for pg in range(page_start,page_stop):\n",
    "    url=f\"https://www.magicbricks.com/mbsrp/propertySearch.html?editSearch=Y&category=R&propertyType=10002,10003,10021,10022,10020,10001,10017&city=3649&page={page_start}&groupstart={group_range}&offset=0&maxOffset=22&sortBy=premiumRecent&postedSince=-1&pType=10002,10003,10021,10022,10020,10001,10017&isNRI=N&multiLang=en\"\n",
    "    r=requests.get(url)\n",
    "    data=r.json()\n",
    "    for result in data[\"resultList\"]:\n",
    "        try:\n",
    "            mgb[\"unique_id\"].append(result[\"id\"])\n",
    "        except:\n",
    "            mgb[\"unique_id\"].append(np.nan)\n",
    "         \n",
    "        try:\n",
    "            corr=result[\"ltcoordGeo\"].split(\",\")\n",
    "            mgb[\"latitude\"].append(corr[0])\n",
    "            mgb[\"longitude\"].append(corr[1])\n",
    "        except:\n",
    "            mgb[\"latitude\"].append(np.nan)\n",
    "            mgb[\"longitude\"].append(np.nan)\n",
    "            \n",
    "        try:\n",
    "            mgb[\"Rent_price\"].append(result[\"price\"])\n",
    "        except:\n",
    "            mgb[\"Rent_price\"].append(np.nan) \n",
    "            \n",
    "        try:\n",
    "            mgb[\"CarpetArea\"].append(result[\"carpetArea\"])\n",
    "            mgb[\"CarpetUnit\"].append(\"Sq-ft\")\n",
    "        except:\n",
    "            mgb[\"CarpetArea\"].append(np.nan)\n",
    "            mgb[\"CarpetUnit\"].append(np.nan)\n",
    "            \n",
    "        try:\n",
    "            mgb[\"CoveredArea\"].append(result[\"coveredArea\"])\n",
    "            mgb[\"CoveredUnit\"].append(\"Sq-ft\")\n",
    "        except:\n",
    "            mgb[\"CoveredArea\"].append(np.nan)\n",
    "            mgb[\"CoveredUnit\"].append(np.nan)\n",
    "        try:\n",
    "            mgb[\"City\"].append(result[\"ctName\"])\n",
    "        except:\n",
    "            mgb[\"City\"].append(np.nan)\n",
    "            \n",
    "        \n",
    "        try:\n",
    "            mgb[\"Property_Name\"].append(result[\"propertyTitle\"])\n",
    "        except:\n",
    "             mgb[\"Property_Name\"].append(np.nan)\n",
    "                \n",
    "        try:\n",
    "            fetch_url = result[\"url\"]\n",
    "            url_link = f\"https://www.magicbricks.com/propertyDetails/{fetch_url}\"\n",
    "            mgb[\"url\"].append(url_link)\n",
    "        except:\n",
    "             mgb[\"url\"].append(np.nan)\n",
    "\n",
    "        try:\n",
    "            r = requests.get(url_link).text\n",
    "            soup = BeautifulSoup(r, \"lxml\")\n",
    "            for i in range(0,5):\n",
    "                title=soup.find_all(\"div\", class_=\"mb-ldp__more-dtl__list--label\")[i].text\n",
    "                if title==\"Address\":\n",
    "                    address = soup.find_all(\"div\", class_=\"mb-ldp__more-dtl__list--value\")[i].text\n",
    "                    mgb[\"Property_Address\"].append(address)\n",
    "                    break\n",
    "                else:\n",
    "                   continue\n",
    "        except:\n",
    "            mgb[\"Property_Address\"].append(np.nan)\n",
    "            \n",
    "        try:\n",
    "            mgb[\"Post_date\"].append(result[\"postDateT\"][0:10])\n",
    "        except:\n",
    "            mgb[\"Post_date\"].append(np.nan)\n",
    "    print(\"Page complete -- \",page_start)\n",
    "    page_start=page_start+1    \n",
    "    group_range=group_range+30\n",
    "mgb_f=pd.DataFrame(mgb)\n",
    "print(\"All done\")"
   ]
  },
  {
   "cell_type": "code",
   "execution_count": 20,
   "id": "ff582f45",
   "metadata": {},
   "outputs": [],
   "source": [
    "mgb_f=pd.DataFrame(mgb)"
   ]
  },
  {
   "cell_type": "code",
   "execution_count": 21,
   "id": "101049dc",
   "metadata": {},
   "outputs": [
    {
     "data": {
      "text/plain": [
       "(180, 13)"
      ]
     },
     "execution_count": 21,
     "metadata": {},
     "output_type": "execute_result"
    }
   ],
   "source": [
    "mgb_f.shape"
   ]
  },
  {
   "cell_type": "code",
   "execution_count": 22,
   "id": "102e36ff",
   "metadata": {},
   "outputs": [],
   "source": [
    "mgb_uni=mgb_f[mgb_f[\"unique_id\"].duplicated()==False]"
   ]
  },
  {
   "cell_type": "code",
   "execution_count": 23,
   "id": "54e83d82",
   "metadata": {},
   "outputs": [
    {
     "data": {
      "text/plain": [
       "(161, 13)"
      ]
     },
     "execution_count": 23,
     "metadata": {},
     "output_type": "execute_result"
    }
   ],
   "source": [
    "mgb_uni.shape"
   ]
  },
  {
   "cell_type": "code",
   "execution_count": 24,
   "id": "259560fd",
   "metadata": {},
   "outputs": [],
   "source": [
    "mgb_uni.to_csv(\"‪magic_bricks_Kozhikode.csv\")"
   ]
  }
 ],
 "metadata": {
  "kernelspec": {
   "display_name": "Python 3 (ipykernel)",
   "language": "python",
   "name": "python3"
  },
  "language_info": {
   "codemirror_mode": {
    "name": "ipython",
    "version": 3
   },
   "file_extension": ".py",
   "mimetype": "text/x-python",
   "name": "python",
   "nbconvert_exporter": "python",
   "pygments_lexer": "ipython3",
   "version": "3.9.13"
  }
 },
 "nbformat": 4,
 "nbformat_minor": 5
}
